{
 "cells": [
  {
   "cell_type": "markdown",
   "metadata": {},
   "source": [
    "<h1> DS200A Computer Vision Assignment</h1>"
   ]
  },
  {
   "cell_type": "markdown",
   "metadata": {},
   "source": [
    "<h2>  Part Two: Exploratory data analysis and feature extraction. </h2>\t\n"
   ]
  },
  {
   "cell_type": "markdown",
   "metadata": {},
   "source": [
    "<h5> In this section, Compute at least 15 such image features (a method for each), including the following (NOTE: At least 10 of these must be scalar features and 2 matrix-based features): (i) image size, (ii) average of the red-channel intensity, (iii) aspectratio. This will require significant explatoratory research and data analysis. The first one is already implemented for you, and the next two are pre-specified. Additional requirements specfied in pdf. </h5>"
   ]
  },
  {
   "cell_type": "code",
   "execution_count": 1,
   "metadata": {},
   "outputs": [],
   "source": [
    "#Import anything you need here\n",
    "\n",
    "import numpy as np\n",
    "import matplotlib.pyplot as plt\n",
    "import pandas as pd\n",
    "import matplotlib\n",
    "import skimage\n",
    "from skimage import data\n",
    "from skimage import io\n",
    "from PIL import Image\n",
    "import os\n",
    "import cv2"
   ]
  },
  {
   "cell_type": "code",
   "execution_count": 2,
   "metadata": {},
   "outputs": [],
   "source": [
    "starting_data = pd.read_pickle('starting_data.pkl')\n",
    "validation_data = pd.read_pickle('validation_data.pkl')"
   ]
  },
  {
   "cell_type": "code",
   "execution_count": 3,
   "metadata": {},
   "outputs": [
    {
     "data": {
      "text/html": [
       "<div>\n",
       "<style scoped>\n",
       "    .dataframe tbody tr th:only-of-type {\n",
       "        vertical-align: middle;\n",
       "    }\n",
       "\n",
       "    .dataframe tbody tr th {\n",
       "        vertical-align: top;\n",
       "    }\n",
       "\n",
       "    .dataframe thead th {\n",
       "        text-align: right;\n",
       "    }\n",
       "</style>\n",
       "<table border=\"1\" class=\"dataframe\">\n",
       "  <thead>\n",
       "    <tr style=\"text-align: right;\">\n",
       "      <th></th>\n",
       "      <th>Pictures</th>\n",
       "      <th>Encoding</th>\n",
       "      <th>File Path</th>\n",
       "    </tr>\n",
       "  </thead>\n",
       "  <tbody>\n",
       "    <tr>\n",
       "      <th>0</th>\n",
       "      <td>[[[255, 255, 255], [255, 255, 255], [255, 255,...</td>\n",
       "      <td>0</td>\n",
       "      <td>20_categories_training\\20_categories_training\\...</td>\n",
       "    </tr>\n",
       "    <tr>\n",
       "      <th>1</th>\n",
       "      <td>[[[255, 255, 255], [255, 255, 255], [255, 255,...</td>\n",
       "      <td>0</td>\n",
       "      <td>20_categories_training\\20_categories_training\\...</td>\n",
       "    </tr>\n",
       "    <tr>\n",
       "      <th>2</th>\n",
       "      <td>[[[255, 255, 255], [255, 255, 255], [255, 255,...</td>\n",
       "      <td>0</td>\n",
       "      <td>20_categories_training\\20_categories_training\\...</td>\n",
       "    </tr>\n",
       "    <tr>\n",
       "      <th>3</th>\n",
       "      <td>[[[174, 190, 187], [173, 189, 186], [172, 188,...</td>\n",
       "      <td>0</td>\n",
       "      <td>20_categories_training\\20_categories_training\\...</td>\n",
       "    </tr>\n",
       "    <tr>\n",
       "      <th>4</th>\n",
       "      <td>[[[255, 255, 255], [255, 255, 255], [255, 255,...</td>\n",
       "      <td>0</td>\n",
       "      <td>20_categories_training\\20_categories_training\\...</td>\n",
       "    </tr>\n",
       "  </tbody>\n",
       "</table>\n",
       "</div>"
      ],
      "text/plain": [
       "                                            Pictures Encoding  \\\n",
       "0  [[[255, 255, 255], [255, 255, 255], [255, 255,...        0   \n",
       "1  [[[255, 255, 255], [255, 255, 255], [255, 255,...        0   \n",
       "2  [[[255, 255, 255], [255, 255, 255], [255, 255,...        0   \n",
       "3  [[[174, 190, 187], [173, 189, 186], [172, 188,...        0   \n",
       "4  [[[255, 255, 255], [255, 255, 255], [255, 255,...        0   \n",
       "\n",
       "                                           File Path  \n",
       "0  20_categories_training\\20_categories_training\\...  \n",
       "1  20_categories_training\\20_categories_training\\...  \n",
       "2  20_categories_training\\20_categories_training\\...  \n",
       "3  20_categories_training\\20_categories_training\\...  \n",
       "4  20_categories_training\\20_categories_training\\...  "
      ]
     },
     "execution_count": 3,
     "metadata": {},
     "output_type": "execute_result"
    }
   ],
   "source": [
    "starting_data.head()"
   ]
  },
  {
   "cell_type": "code",
   "execution_count": 4,
   "metadata": {},
   "outputs": [
    {
     "data": {
      "text/html": [
       "<div>\n",
       "<style scoped>\n",
       "    .dataframe tbody tr th:only-of-type {\n",
       "        vertical-align: middle;\n",
       "    }\n",
       "\n",
       "    .dataframe tbody tr th {\n",
       "        vertical-align: top;\n",
       "    }\n",
       "\n",
       "    .dataframe thead th {\n",
       "        text-align: right;\n",
       "    }\n",
       "</style>\n",
       "<table border=\"1\" class=\"dataframe\">\n",
       "  <thead>\n",
       "    <tr style=\"text-align: right;\">\n",
       "      <th></th>\n",
       "      <th>Encoding</th>\n",
       "    </tr>\n",
       "  </thead>\n",
       "  <tbody>\n",
       "    <tr>\n",
       "      <th>0</th>\n",
       "      <td>[[[80, 79, 74], [56, 55, 50], [54, 53, 48], [4...</td>\n",
       "    </tr>\n",
       "    <tr>\n",
       "      <th>1</th>\n",
       "      <td>[[[213, 173, 85], [213, 173, 85], [213, 173, 8...</td>\n",
       "    </tr>\n",
       "    <tr>\n",
       "      <th>2</th>\n",
       "      <td>[[[19, 36, 30], [14, 31, 25], [11, 26, 21], [1...</td>\n",
       "    </tr>\n",
       "    <tr>\n",
       "      <th>3</th>\n",
       "      <td>[[[95, 138, 69], [95, 138, 69], [95, 138, 69],...</td>\n",
       "    </tr>\n",
       "    <tr>\n",
       "      <th>4</th>\n",
       "      <td>[[[164, 203, 242], [164, 203, 242], [164, 204,...</td>\n",
       "    </tr>\n",
       "  </tbody>\n",
       "</table>\n",
       "</div>"
      ],
      "text/plain": [
       "                                            Encoding\n",
       "0  [[[80, 79, 74], [56, 55, 50], [54, 53, 48], [4...\n",
       "1  [[[213, 173, 85], [213, 173, 85], [213, 173, 8...\n",
       "2  [[[19, 36, 30], [14, 31, 25], [11, 26, 21], [1...\n",
       "3  [[[95, 138, 69], [95, 138, 69], [95, 138, 69],...\n",
       "4  [[[164, 203, 242], [164, 203, 242], [164, 204,..."
      ]
     },
     "execution_count": 4,
     "metadata": {},
     "output_type": "execute_result"
    }
   ],
   "source": [
    "validation_data.head()"
   ]
  },
  {
   "cell_type": "code",
   "execution_count": 39,
   "metadata": {},
   "outputs": [],
   "source": [
    "def ft0(img):\n",
    "    # Input: ndarray of row (height) x column (width) x color (3)\n",
    "    # Returns: Pixel size of image\n",
    "    \n",
    "    h, w, _ = img.shape\n",
    "    return h, w\n",
    "\n",
    "\n",
    "def ft1(img):\n",
    "    # Input: ndarray of row (height) x column (width) x color (3)\n",
    "    # Returns: Average red-channel intensity for image\n",
    "    \n",
    "    return img[:, :, 0].mean()\n",
    "    \n",
    "    \n",
    "def ft2(img):\n",
    "    # Input: ndarray of row (height) x column (width) x color (3)\n",
    "    # Returns: the aspect ratio of the image\n",
    "\n",
    "    h, w = ft0(img)\n",
    "    return w/h\n",
    "\n",
    "\n",
    "def ft3(img):\n",
    "    # Input: ndarray of row (height) x column (width) x color (3)\n",
    "    # Returns: Array identifying Harris Corners\n",
    "    \n",
    "    image = img.copy()\n",
    "    image = cv2.cvtColor(image, cv2.COLOR_RGB2BGR)\n",
    "    gray = cv2.cvtColor(image, cv2.COLOR_BGR2GRAY)\n",
    "    gray = np.float32(gray)\n",
    "    dst = cv2.cornerHarris(gray, 2, 3, 0.04)\n",
    "    \n",
    "#     image[dst>0.01*dst.max()]=[0,0,255]\n",
    "\n",
    "#     cv2.imshow('dst', image)\n",
    "#     if cv2.waitKey(0) & 0xff == 27:\n",
    "#         cv2.destroyAllWindows()\n",
    "    \n",
    "    return dst\n",
    "    \n",
    "    \n",
    "def ft4(img):\n",
    "    "
   ]
  },
  {
   "cell_type": "code",
   "execution_count": null,
   "metadata": {},
   "outputs": [],
   "source": [
    "img = cv2.imread('20_categories_training\\\\20_categories_training\\\\airplanes\\\\airplanes_0001.jpg')\n",
    "imgs = img.copy()\n",
    "gray = cv2.cvtColor(imgs, cv2.COLOR_BGR2GRAY)\n",
    "gray = np.float32(gray)\n",
    "dst1 = cv2.cornerHarris(gray, 2, 3, 0.04)\n",
    "\n",
    "img[dst1>0.01*dst1.max()]=[0,0,255]\n",
    "\n",
    "cv2.imshow('dst', img)\n",
    "if cv2.waitKey(0) & 0xff == 27:\n",
    "    cv2.destroyAllWindows()"
   ]
  },
  {
   "cell_type": "markdown",
   "metadata": {},
   "source": [
    " We expect all external sources sited, and significant indication of EDA. "
   ]
  },
  {
   "cell_type": "markdown",
   "metadata": {},
   "source": [
    "<h4> Graphs </h4>"
   ]
  },
  {
   "cell_type": "code",
   "execution_count": null,
   "metadata": {},
   "outputs": [],
   "source": []
  },
  {
   "cell_type": "markdown",
   "metadata": {},
   "source": [
    "<h4> Sources </h4>"
   ]
  },
  {
   "cell_type": "code",
   "execution_count": null,
   "metadata": {},
   "outputs": [],
   "source": []
  },
  {
   "cell_type": "markdown",
   "metadata": {},
   "source": [
    "<h4> DataFrame Creation </h4>"
   ]
  },
  {
   "cell_type": "code",
   "execution_count": null,
   "metadata": {},
   "outputs": [],
   "source": [
    "def feature_frame(df):\n",
    "    return df\n",
    "    #Returns data-frame with all the features now inside, and calculated\n"
   ]
  },
  {
   "cell_type": "code",
   "execution_count": null,
   "metadata": {},
   "outputs": [],
   "source": [
    "feature_frame(data_from_nb1)"
   ]
  },
  {
   "cell_type": "code",
   "execution_count": null,
   "metadata": {},
   "outputs": [],
   "source": []
  }
 ],
 "metadata": {
  "kernelspec": {
   "display_name": "Python 3",
   "language": "python",
   "name": "python3"
  },
  "language_info": {
   "codemirror_mode": {
    "name": "ipython",
    "version": 3
   },
   "file_extension": ".py",
   "mimetype": "text/x-python",
   "name": "python",
   "nbconvert_exporter": "python",
   "pygments_lexer": "ipython3",
   "version": "3.7.7"
  }
 },
 "nbformat": 4,
 "nbformat_minor": 2
}
